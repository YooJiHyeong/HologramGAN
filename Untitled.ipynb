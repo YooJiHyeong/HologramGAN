{
 "cells": [
  {
   "cell_type": "code",
   "execution_count": 11,
   "metadata": {},
   "outputs": [],
   "source": [
    "from glob import glob\n",
    "\n",
    "path = \"/data5/interferogram_gan/unlocked/NIH3T3/NIH3T3_Mito_Hoechst/20190328_NIH3T3_Mito_Hoechst_0.313_30/*/sp\"\n",
    "folders = sorted(glob(path))"
   ]
  },
  {
   "cell_type": "code",
   "execution_count": 12,
   "metadata": {},
   "outputs": [
    {
     "name": "stdout",
     "output_type": "stream",
     "text": [
      "/data5/interferogram_gan/unlocked/NIH3T3/NIH3T3_Mito_Hoechst/20190328_NIH3T3_Mito_Hoechst_0.313_30/20190328.154252.840.Default-020_000000/sp\n",
      "46\n",
      "/data5/interferogram_gan/unlocked/NIH3T3/NIH3T3_Mito_Hoechst/20190328_NIH3T3_Mito_Hoechst_0.313_30/20190328.160212.563.Default-025_000000/sp\n",
      "46\n",
      "/data5/interferogram_gan/unlocked/NIH3T3/NIH3T3_Mito_Hoechst/20190328_NIH3T3_Mito_Hoechst_0.313_30/20190328.170627.316.Default-056_000000/sp\n",
      "46\n",
      "/data5/interferogram_gan/unlocked/NIH3T3/NIH3T3_Mito_Hoechst/20190328_NIH3T3_Mito_Hoechst_0.313_30/20190328.171133.751.Default-057_000000/sp\n",
      "46\n",
      "/data5/interferogram_gan/unlocked/NIH3T3/NIH3T3_Mito_Hoechst/20190328_NIH3T3_Mito_Hoechst_0.313_30/20190328.171429.867.Default-058_000000/sp\n",
      "46\n",
      "/data5/interferogram_gan/unlocked/NIH3T3/NIH3T3_Mito_Hoechst/20190328_NIH3T3_Mito_Hoechst_0.313_30/20190328.171920.620.Default-059P002_000000/sp\n",
      "46\n",
      "/data5/interferogram_gan/unlocked/NIH3T3/NIH3T3_Mito_Hoechst/20190328_NIH3T3_Mito_Hoechst_0.313_30/20190328.171920.839.Default-059P003_000000/sp\n",
      "46\n",
      "/data5/interferogram_gan/unlocked/NIH3T3/NIH3T3_Mito_Hoechst/20190328_NIH3T3_Mito_Hoechst_0.313_30/20190328.171921.017.Default-059P004_000000/sp\n",
      "46\n",
      "/data5/interferogram_gan/unlocked/NIH3T3/NIH3T3_Mito_Hoechst/20190328_NIH3T3_Mito_Hoechst_0.313_30/20190328.171921.987.Default-059P005_000000/sp\n",
      "46\n",
      "/data5/interferogram_gan/unlocked/NIH3T3/NIH3T3_Mito_Hoechst/20190328_NIH3T3_Mito_Hoechst_0.313_30/20190328.171926.477.Default-059P006_000000/sp\n",
      "46\n",
      "/data5/interferogram_gan/unlocked/NIH3T3/NIH3T3_Mito_Hoechst/20190328_NIH3T3_Mito_Hoechst_0.313_30/20190328.171930.342.Default-059P007_000000/sp\n",
      "46\n",
      "/data5/interferogram_gan/unlocked/NIH3T3/NIH3T3_Mito_Hoechst/20190328_NIH3T3_Mito_Hoechst_0.313_30/20190328.171934.372.Default-059P008_000000/sp\n",
      "46\n",
      "/data5/interferogram_gan/unlocked/NIH3T3/NIH3T3_Mito_Hoechst/20190328_NIH3T3_Mito_Hoechst_0.313_30/20190328.171938.212.Default-059P009_000000/sp\n",
      "46\n",
      "/data5/interferogram_gan/unlocked/NIH3T3/NIH3T3_Mito_Hoechst/20190328_NIH3T3_Mito_Hoechst_0.313_30/20190328.171941.746.Default-059P010_000000/sp\n",
      "46\n",
      "/data5/interferogram_gan/unlocked/NIH3T3/NIH3T3_Mito_Hoechst/20190328_NIH3T3_Mito_Hoechst_0.313_30/20190328.171952.226.Default-059P013_000000/sp\n",
      "46\n"
     ]
    }
   ],
   "source": [
    "path_list = []\n",
    "for i in folders:\n",
    "    print(i)\n",
    "    imgs = sorted(glob(i + \"/*.png\"))\n",
    "    for idx, img in enumerate(imgs[:-2]):\n",
    "        path_list.append([imgs[idx], imgs[idx+1], imgs[idx+2]])\n",
    "    print(idx)\n"
   ]
  },
  {
   "cell_type": "code",
   "execution_count": 13,
   "metadata": {},
   "outputs": [],
   "source": [
    "import csv\n",
    "\n",
    "c = csv.writer(open(\"./infer_sp_2.csv\", \"w\"))\n",
    "\n",
    "for p in path_list:\n",
    "    c.writerow(p)"
   ]
  },
  {
   "cell_type": "code",
   "execution_count": 14,
   "metadata": {},
   "outputs": [
    {
     "name": "stdout",
     "output_type": "stream",
     "text": [
      "705\n"
     ]
    }
   ],
   "source": [
    "print(len(path_list))"
   ]
  },
  {
   "cell_type": "code",
   "execution_count": null,
   "metadata": {},
   "outputs": [],
   "source": []
  }
 ],
 "metadata": {
  "kernelspec": {
   "display_name": "Python 3",
   "language": "python",
   "name": "python3"
  },
  "language_info": {
   "codemirror_mode": {
    "name": "ipython",
    "version": 3
   },
   "file_extension": ".py",
   "mimetype": "text/x-python",
   "name": "python",
   "nbconvert_exporter": "python",
   "pygments_lexer": "ipython3",
   "version": "3.5.2"
  }
 },
 "nbformat": 4,
 "nbformat_minor": 2
}
